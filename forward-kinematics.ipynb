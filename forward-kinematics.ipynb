{
 "cells": [
  {
   "cell_type": "markdown",
   "metadata": {},
   "source": [
    "<!-- Inspired by the https://colab.research.google.com/github/jhavl/dkt/blob/main/Part%201/1%20Manipulator%20Kinematics.ipynb#scrollTo=dBlNufUaqAjc -->\n",
    "## What does Forward Kinematics do?\n",
    "\n",
    "Forward Kinematics is providing an non-linear mapping from the origin to the end-effector. We represent the end-effrector coodinate joint space in terms of coordinate space of the origin.\n",
    "\n",
    "${}^{0}T(t) = \\mathcal{K}(q(t))$, where $q(t)$ is a vector.\n",
    "\n",
    "\n",
    "### The elementary transform sequence \n",
    "\n",
    "The elementatry transform sequence provides a universal way of describing transformations for the manipulator. ETS consists of sequence of the number of elementary transforms $E_i$ which can be either represent rotation or translation. Here is an example:\n",
    "\n",
    "\\begin{align*}\n",
    "    \\bf{E_i} =\n",
    "    \\left\\{\n",
    "    \\begin{matrix}\n",
    "        \\bf{T}_{t_{x}}(\\eta_i) \\\\\n",
    "        \\bf{T}_{t_{y}}(\\eta_i) \\\\\n",
    "        \\bf{T}_{t_{z}}(\\eta_i) \\\\\n",
    "        \\bf{T}_{R_{x}}(\\eta_i) \\\\\n",
    "        \\bf{T}_{R_{y}}(\\eta_i) \\\\\n",
    "        \\bf{T}_{R_{z}}(\\eta_i) \\\\\n",
    "    \\end{matrix}\n",
    "    \\right.\n",
    "\\end{align*}\n",
    "\n",
    "In other textbooks ETS is simply defined as ${}^{i}\\bf{T}$\n",
    "\n",
    "where the parameter ${\\eta}$ is either a constant or a joint variable:\n",
    "\n",
    "\\begin{equation}\n",
    "\\eta_i = \n",
    "\\left\\{\n",
    "    \\begin{matrix}\n",
    "        c_i \\\\ \n",
    "        q_j(t)\n",
    "    \\end{matrix}\n",
    "\\right.\n",
    "\\end{equation}\n",
    "\n",
    "Joint variable is determined the type of the joint. Even though there are more than 4 types of joints, there are two most important ones from which all others are derived. So to simplify the calculations we can use them for now.\n",
    "1. Revolute joint $\\rightarrow \\theta_j(t)$\n",
    "2. Prismatic joint $\\rightarrow  d_j(t)$\n",
    "\n",
    "\n",
    "Each of the $\\bf{T}$ elementary transformation values has its place in the resulting ETS. The elementary $T_i's$ are:\n",
    "\n",
    "<img src=\"assets/positional-matrices.png\" width=\"300\" height=\"300\">\n",
    "<img src=\"assets/rotational-matrices.png\" width=\"300\" height=\"300\">\n",
    "\n",
    "\n",
    "</br>"
   ]
  },
  {
   "cell_type": "code",
   "execution_count": 2,
   "metadata": {},
   "outputs": [],
   "source": [
    "# math \n",
    "import numpy as np\n",
    "\n",
    "# robotics toolbox\n",
    "import roboticstoolbox as rtb\n",
    "\n",
    "# for transformations\n",
    "import spatialmath as sm"
   ]
  },
  {
   "cell_type": "code",
   "execution_count": 6,
   "metadata": {},
   "outputs": [
    {
     "name": "stdout",
     "output_type": "stream",
     "text": [
      "Rx(q)\n",
      "Rx(90°)\n"
     ]
    }
   ],
   "source": [
    "# variable for rotation around x axis\n",
    "rx_var = rtb.ET.Rx()\n",
    "\n",
    "# constant for rotation around x-axis = 90deg\n",
    "rx_cons = rtb.ET.Rx(np.pi / 2)\n",
    "\n",
    "print(rx_var)\n",
    "print(rx_cons)"
   ]
  },
  {
   "cell_type": "code",
   "execution_count": 10,
   "metadata": {},
   "outputs": [
    {
     "name": "stdout",
     "output_type": "stream",
     "text": [
      "Transform matrix is: \n",
      " [[ 1.000000e+00  0.000000e+00  0.000000e+00  0.000000e+00]\n",
      " [ 0.000000e+00  6.123234e-17 -1.000000e+00  0.000000e+00]\n",
      " [ 0.000000e+00  1.000000e+00  6.123234e-17  0.000000e+00]\n",
      " [ 0.000000e+00  0.000000e+00  0.000000e+00  1.000000e+00]]\n",
      "Transform matrix human readable: \n",
      "  \u001b[38;5;1m 1       \u001b[0m \u001b[38;5;1m 0       \u001b[0m \u001b[38;5;1m 0       \u001b[0m \u001b[38;5;4m 0       \u001b[0m  \u001b[0m\n",
      "  \u001b[38;5;1m 0       \u001b[0m \u001b[38;5;1m 0       \u001b[0m \u001b[38;5;1m-1       \u001b[0m \u001b[38;5;4m 0       \u001b[0m  \u001b[0m\n",
      "  \u001b[38;5;1m 0       \u001b[0m \u001b[38;5;1m 1       \u001b[0m \u001b[38;5;1m 0       \u001b[0m \u001b[38;5;4m 0       \u001b[0m  \u001b[0m\n",
      "  \u001b[38;5;244m 0       \u001b[0m \u001b[38;5;244m 0       \u001b[0m \u001b[38;5;244m 0       \u001b[0m \u001b[38;5;244m 1       \u001b[0m  \u001b[0m\n",
      "\n"
     ]
    }
   ],
   "source": [
    "# We can get the transformation matrix from the rx_cons \n",
    "transform = rx_cons.A()\n",
    "\n",
    "# Then we use spacial math to represent it in human readable format\n",
    "transform_hm = sm.SE3(transform) \n",
    "\n",
    "\n",
    "print(f\"Transform matrix is: \\n {transform}\")\n",
    "print(f\"Transform matrix human readable: \\n{transform_hm}\")\n"
   ]
  },
  {
   "cell_type": "code",
   "execution_count": 11,
   "metadata": {},
   "outputs": [
    {
     "name": "stdout",
     "output_type": "stream",
     "text": [
      "Transform matrix is: \n",
      " [[ 1.          0.          0.          0.        ]\n",
      " [ 0.          0.70710678 -0.70710678  0.        ]\n",
      " [ 0.          0.70710678  0.70710678  0.        ]\n",
      " [ 0.          0.          0.          1.        ]]\n",
      "Transform matrix human readable: \n",
      "  \u001b[38;5;1m 1       \u001b[0m \u001b[38;5;1m 0       \u001b[0m \u001b[38;5;1m 0       \u001b[0m \u001b[38;5;4m 0       \u001b[0m  \u001b[0m\n",
      "  \u001b[38;5;1m 0       \u001b[0m \u001b[38;5;1m 0.7071  \u001b[0m \u001b[38;5;1m-0.7071  \u001b[0m \u001b[38;5;4m 0       \u001b[0m  \u001b[0m\n",
      "  \u001b[38;5;1m 0       \u001b[0m \u001b[38;5;1m 0.7071  \u001b[0m \u001b[38;5;1m 0.7071  \u001b[0m \u001b[38;5;4m 0       \u001b[0m  \u001b[0m\n",
      "  \u001b[38;5;244m 0       \u001b[0m \u001b[38;5;244m 0       \u001b[0m \u001b[38;5;244m 0       \u001b[0m \u001b[38;5;244m 1       \u001b[0m  \u001b[0m\n",
      "\n"
     ]
    }
   ],
   "source": [
    "# For the variable case we need to employ a variable into the A function \n",
    "\n",
    "q = np.pi / 4\n",
    "transform = rx_var.A(q)\n",
    "\n",
    "transform_hm = sm.SE3(transform)\n",
    "\n",
    "\n",
    "print(f\"Transform matrix is: \\n {transform}\")\n",
    "print(f\"Transform matrix human readable: \\n{transform_hm}\")"
   ]
  },
  {
   "cell_type": "code",
   "execution_count": 12,
   "metadata": {},
   "outputs": [
    {
     "name": "stdout",
     "output_type": "stream",
     "text": [
      "ty(0.25)\n",
      "ty(q)\n"
     ]
    }
   ],
   "source": [
    "# Lets try to create y-axis variable transformation\n",
    "\n",
    "ty_var = rtb.ET.ty()\n",
    "\n",
    "# translating along y-axis by 0.25sm  \n",
    "ty_cons = rtb.ET.ty(0.25)\n",
    "\n",
    "print(ty_cons)\n",
    "print(ty_var)"
   ]
  },
  {
   "cell_type": "code",
   "execution_count": 14,
   "metadata": {},
   "outputs": [
    {
     "name": "stdout",
     "output_type": "stream",
     "text": [
      "Resulting transform in human readable form:\n",
      "  \u001b[38;5;1m 1       \u001b[0m \u001b[38;5;1m 0       \u001b[0m \u001b[38;5;1m 0       \u001b[0m \u001b[38;5;4m 0       \u001b[0m  \u001b[0m\n",
      "  \u001b[38;5;1m 0       \u001b[0m \u001b[38;5;1m 1       \u001b[0m \u001b[38;5;1m 0       \u001b[0m \u001b[38;5;4m 0.25    \u001b[0m  \u001b[0m\n",
      "  \u001b[38;5;1m 0       \u001b[0m \u001b[38;5;1m 0       \u001b[0m \u001b[38;5;1m 1       \u001b[0m \u001b[38;5;4m 0       \u001b[0m  \u001b[0m\n",
      "  \u001b[38;5;244m 0       \u001b[0m \u001b[38;5;244m 0       \u001b[0m \u001b[38;5;244m 0       \u001b[0m \u001b[38;5;244m 1       \u001b[0m  \u001b[0m\n",
      "\n"
     ]
    }
   ],
   "source": [
    "# We can calculate the transform coming from the ty using .A method \n",
    "transform = ty_cons.A()\n",
    "transform_hm = sm.SE3(transform)\n",
    "\n",
    "print(f\"Resulting transform in human readable form:\\n{transform_hm}\")"
   ]
  },
  {
   "cell_type": "code",
   "execution_count": 15,
   "metadata": {},
   "outputs": [
    {
     "name": "stdout",
     "output_type": "stream",
     "text": [
      "Resulting transform in human readable form:\n",
      "  \u001b[38;5;1m 1       \u001b[0m \u001b[38;5;1m 0       \u001b[0m \u001b[38;5;1m 0       \u001b[0m \u001b[38;5;4m 0       \u001b[0m  \u001b[0m\n",
      "  \u001b[38;5;1m 0       \u001b[0m \u001b[38;5;1m 1       \u001b[0m \u001b[38;5;1m 0       \u001b[0m \u001b[38;5;4m 0.15    \u001b[0m  \u001b[0m\n",
      "  \u001b[38;5;1m 0       \u001b[0m \u001b[38;5;1m 0       \u001b[0m \u001b[38;5;1m 1       \u001b[0m \u001b[38;5;4m 0       \u001b[0m  \u001b[0m\n",
      "  \u001b[38;5;244m 0       \u001b[0m \u001b[38;5;244m 0       \u001b[0m \u001b[38;5;244m 0       \u001b[0m \u001b[38;5;244m 1       \u001b[0m  \u001b[0m\n",
      "\n"
     ]
    }
   ],
   "source": [
    "# Now let's try to do it with the variable \n",
    "\n",
    "transform = ty_var.A(0.15)\n",
    "transform_hm = sm.SE3(transform)\n",
    "\n",
    "print(f\"Resulting transform in human readable form:\\n{transform_hm}\")"
   ]
  },
  {
   "cell_type": "markdown",
   "metadata": {},
   "source": [
    "## Encode 7-degree of freedom Franka manipulator \n",
    "\n",
    "\n",
    "<img src=\"./assets/cover.png\" width=\"300px\" />"
   ]
  },
  {
   "cell_type": "code",
   "execution_count": 37,
   "metadata": {},
   "outputs": [
    {
     "name": "stdout",
     "output_type": "stream",
     "text": [
      "tz(0.333) ⊕ Rz(q0) ⊕ Ry(q1) ⊕ tz(0.316) ⊕ Rz(q2) ⊕ tx(0.0825) ⊕ Ry(-q3) ⊕ tx(-0.0825) ⊕ tz(0.384) ⊕ Rz(q4) ⊕ Ry(-q5) ⊕ tx(0.088) ⊕ Rx(180°) ⊕ tz(0.107) ⊕ Rz(q6)\n",
      "Manipulator has 7 joints\n",
      "Manipulator has 15 ETs\n",
      "The first ET is manipulator ETS is Rz(q0)\n",
      "The first variable joint has has a jindex: 0, while the second has jindex: 1\n",
      "\n",
      "All variables in ETS: \n",
      "[ET.Rz(jindex=0), ET.Ry(jindex=1), ET.Rz(jindex=2), ET.Ry(jindex=3, flip=True), ET.Rz(jindex=4), ET.Ry(jindex=5, flip=True), ET.Rz(jindex=6)]\n"
     ]
    }
   ],
   "source": [
    "# {}^{0}T_1\n",
    "E1 = rtb.ET.tz(0.333)\n",
    "E2 = rtb.ET.Rz()\n",
    "\n",
    "# {}^{1}T_2\n",
    "E3 = rtb.ET.Ry()\n",
    "\n",
    "# {}^{2}T_3\n",
    "E4 = rtb.ET.tz(0.316)\n",
    "E5 = rtb.ET.Rz()\n",
    "\n",
    "# {}^{3}T_4 (from 4 to 3)\n",
    "E6 = rtb.ET.tx(0.0825)\n",
    "E7 = rtb.ET.Ry(flip=True)\n",
    "\n",
    "# {}^{4}T_5 \n",
    "E8 = rtb.ET.tx(-0.0825)\n",
    "E9 = rtb.ET.tz(0.384)\n",
    "E10 = rtb.ET.Rz()\n",
    "\n",
    "# {}^{5}T_6\n",
    "E11 = rtb.ET.Ry(flip=True)\n",
    "\n",
    "# {}^{6}T_7\n",
    "\n",
    "E12 = rtb.ET.tx(0.088)\n",
    "E13 = rtb.ET.Rx(np.pi)\n",
    "E14 = rtb.ET.tz(0.107)\n",
    "E15 = rtb.ET.Rz()\n",
    "\n",
    "\n",
    "\n",
    "# There are many ways of how to creat ETC from now. \n",
    "#  T2 to T0\n",
    "ets1 = E1 * E2 * E3 \n",
    "ets2 = E4 * E5 * E6 * E7 \n",
    "\n",
    "# E = ets1 * ets2 * E8 * E9 * E10 * E11 * E12 * E13 * E14 * E15\n",
    "E = E1 * E2 * E3 * E4 * E5 * E6 * E7 * E8 * E9 * E10 * E11 * E12 * E13 * E14 * E15\n",
    "\n",
    "print(E)\n",
    "print(f\"Manipulator has {E.n} joints\")\n",
    "print(f\"Manipulator has {E.m} ETs\")\n",
    "print(f\"The first ET is manipulator ETS is {E[1]}\")\n",
    "\n",
    "\n",
    "print(f\"The first variable joint has has a jindex: {E[1].jindex}, while the second has jindex: {E[2].jindex}\")\n",
    "\n",
    "# we can extract all the variables from the model as a list\n",
    "print(f\"\\nAll variables in ETS: \\n{E.joints()}\")"
   ]
  },
  {
   "cell_type": "markdown",
   "metadata": {},
   "source": [
    "## Forward kinematics\n",
    "\n",
    "Forward kinematics is the first and most basic relationship between link geometry and robot configuration. Forward Kinematics is providing an non-linear mapping ${}^{0}T(t) = \\mathcal{K}(q(t))$ between the joint space and Cartesian task space. Here ${}^{0}T_{e} \\in SE(3)$ is a homogeneous trasformation matrix. "
   ]
  },
  {
   "cell_type": "code",
   "execution_count": 38,
   "metadata": {},
   "outputs": [],
   "source": [
    "def print_et(et):\n",
    "    print(sm.SE3(et))"
   ]
  },
  {
   "cell_type": "markdown",
   "metadata": {},
   "source": []
  },
  {
   "cell_type": "code",
   "execution_count": 39,
   "metadata": {},
   "outputs": [
    {
     "name": "stdout",
     "output_type": "stream",
     "text": [
      "  \u001b[38;5;1m 0.7003  \u001b[0m \u001b[38;5;1m-0.7068  \u001b[0m \u001b[38;5;1m 0.09983 \u001b[0m \u001b[38;5;4m 0.4737  \u001b[0m  \u001b[0m\n",
      "  \u001b[38;5;1m-0.7104  \u001b[0m \u001b[38;5;1m-0.7038  \u001b[0m \u001b[38;5;1m 0       \u001b[0m \u001b[38;5;4m 0       \u001b[0m  \u001b[0m\n",
      "  \u001b[38;5;1m 0.07027 \u001b[0m \u001b[38;5;1m-0.07092 \u001b[0m \u001b[38;5;1m-0.995   \u001b[0m \u001b[38;5;4m 0.5155  \u001b[0m  \u001b[0m\n",
      "  \u001b[38;5;244m 0       \u001b[0m \u001b[38;5;244m 0       \u001b[0m \u001b[38;5;244m 0       \u001b[0m \u001b[38;5;244m 1       \u001b[0m  \u001b[0m\n",
      "\n"
     ]
    }
   ],
   "source": [
    "# Now let's populate our not defined q's in the ETS with some values \n",
    "\n",
    "q = np.array([0, -0.3, 0, -2.2, 0, 2, 0.79])\n",
    "\n",
    "# allocate array \n",
    "forward_kinematics = np.eye(4)\n",
    "\n",
    "for et in E:\n",
    "    if et.isjoint:\n",
    "        forward_kinematics = forward_kinematics @ et.A(q[et.jindex])\n",
    "    else:\n",
    "        forward_kinematics = forward_kinematics @ et.A()\n",
    "\n",
    "print_et(forward_kinematics)"
   ]
  },
  {
   "cell_type": "code",
   "execution_count": 43,
   "metadata": {},
   "outputs": [
    {
     "name": "stdout",
     "output_type": "stream",
     "text": [
      "The fkine method:\n",
      "  \u001b[38;5;1m 0.7003  \u001b[0m \u001b[38;5;1m-0.7068  \u001b[0m \u001b[38;5;1m 0.09983 \u001b[0m \u001b[38;5;4m 0.4737  \u001b[0m  \u001b[0m\n",
      "  \u001b[38;5;1m-0.7104  \u001b[0m \u001b[38;5;1m-0.7038  \u001b[0m \u001b[38;5;1m 0       \u001b[0m \u001b[38;5;4m 0       \u001b[0m  \u001b[0m\n",
      "  \u001b[38;5;1m 0.07027 \u001b[0m \u001b[38;5;1m-0.07092 \u001b[0m \u001b[38;5;1m-0.995   \u001b[0m \u001b[38;5;4m 0.5155  \u001b[0m  \u001b[0m\n",
      "  \u001b[38;5;244m 0       \u001b[0m \u001b[38;5;244m 0       \u001b[0m \u001b[38;5;244m 0       \u001b[0m \u001b[38;5;244m 1       \u001b[0m  \u001b[0m\n",
      "\n",
      "The eval method:\n",
      "[[ 7.00329021e-01 -7.06804465e-01  9.98334166e-02  4.73724040e-01]\n",
      " [-7.10353272e-01 -7.03845316e-01 -1.22464680e-16 -1.31037208e-17]\n",
      " [ 7.02672827e-02 -7.09169942e-02 -9.95004165e-01  5.15513206e-01]\n",
      " [ 0.00000000e+00  0.00000000e+00  0.00000000e+00  1.00000000e+00]]\n"
     ]
    }
   ],
   "source": [
    "# We can use method of the ETS class instead of writing it by ourselves\n",
    "\n",
    "# fkine calculates in human readable form, without direct involvement of spatialmath\n",
    "print(f\"The fkine method:\\n{E.fkine(q)}\")\n",
    "\n",
    "# eval calculated raw result matrix\n",
    "\n",
    "print(f\"The eval method:\\n{E.eval(q)}\")"
   ]
  }
 ],
 "metadata": {
  "kernelspec": {
   "display_name": "base",
   "language": "python",
   "name": "python3"
  },
  "language_info": {
   "codemirror_mode": {
    "name": "ipython",
    "version": 3
   },
   "file_extension": ".py",
   "mimetype": "text/x-python",
   "name": "python",
   "nbconvert_exporter": "python",
   "pygments_lexer": "ipython3",
   "version": "3.9.18"
  }
 },
 "nbformat": 4,
 "nbformat_minor": 2
}
